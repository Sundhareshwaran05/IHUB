{
 "cells": [
  {
   "cell_type": "markdown",
   "metadata": {
    "notebookRunGroups": {
     "groupValue": "2"
    }
   },
   "source": [
    "**1. Write a Python program to convert a string to uppercase and lowercase.**"
   ]
  },
  {
   "cell_type": "code",
   "execution_count": 4,
   "metadata": {},
   "outputs": [
    {
     "name": "stdout",
     "output_type": "stream",
     "text": [
      "BEFORE :  hello\n",
      "AFTER  :  HELLO\n"
     ]
    }
   ],
   "source": [
    "def case_conversion (word):\n",
    "    if word.isupper():\n",
    "        return word.lower()\n",
    "    else:\n",
    "        return word.upper()\n",
    "\n",
    "word = input()\n",
    "print(\"BEFORE : \",word)\n",
    "print(\"AFTER  : \",case_conversion(word)) "
   ]
  },
  {
   "cell_type": "markdown",
   "metadata": {
    "notebookRunGroups": {
     "groupValue": "2"
    }
   },
   "source": [
    "**2. Write a program to check if the given number is palindrome or not.**"
   ]
  },
  {
   "cell_type": "code",
   "execution_count": 18,
   "metadata": {},
   "outputs": [
    {
     "name": "stdout",
     "output_type": "stream",
     "text": [
      "12345\n",
      "Number is not Palindrome\n"
     ]
    }
   ],
   "source": [
    "def rev(num):\n",
    "    return str(num)[::-1]\n",
    "\n",
    "def palindrome_num(num):\n",
    "    if str(num) == rev(num):\n",
    "        return \"Number is Palindrome\"\n",
    "    else:\n",
    "        return \"Number is not Palindrome\"\n",
    "\n",
    "n = int(input())\n",
    "print(n)\n",
    "print(palindrome_num(n))"
   ]
  },
  {
   "cell_type": "markdown",
   "metadata": {},
   "source": [
    "**3. Write a program to find a factorial of a number**"
   ]
  },
  {
   "cell_type": "code",
   "execution_count": 46,
   "metadata": {},
   "outputs": [
    {
     "name": "stdout",
     "output_type": "stream",
     "text": [
      "Factorial of -1 is no factorial exist for negative numbers\n"
     ]
    }
   ],
   "source": [
    "def factorial(num):\n",
    "    if num < 0:\n",
    "        return \"no factorial exist for negative numbers\"\n",
    "    if num == 0:\n",
    "        return 1\n",
    "    else:\n",
    "        return num * factorial(num-1)\n",
    "\n",
    "n = int(input())\n",
    "print(\"Factorial of\",n,\"is\",factorial(n))"
   ]
  },
  {
   "cell_type": "markdown",
   "metadata": {},
   "source": [
    "**4 .Write a program to check if the given strings are anagram or not.**"
   ]
  },
  {
   "cell_type": "code",
   "execution_count": 47,
   "metadata": {},
   "outputs": [
    {
     "name": "stdout",
     "output_type": "stream",
     "text": [
      "hello \n",
      "world\n",
      "Not an anagram\n"
     ]
    }
   ],
   "source": [
    "def anagram(in1,in2):\n",
    "    if sorted(in1) == sorted(in2):\n",
    "        return \"It is an anagram\"\n",
    "    else:\n",
    "        return \"Not an anagram\"\n",
    "\n",
    "word1 = input()\n",
    "word2 = input()\n",
    "print(word1)\n",
    "print(word2)\n",
    "print(anagram(word1,word2))    "
   ]
  },
  {
   "cell_type": "markdown",
   "metadata": {},
   "source": [
    "**5. write a program in python to convert the integer to binary.**"
   ]
  },
  {
   "cell_type": "code",
   "execution_count": 32,
   "metadata": {},
   "outputs": [
    {
     "name": "stdout",
     "output_type": "stream",
     "text": [
      "Binary value of 10 is 1010\n"
     ]
    }
   ],
   "source": [
    "def int_to_bin(num):\n",
    "    return bin(num)[2:]\n",
    "\n",
    "n = int(input())\n",
    "print(\"Binary value of\",n,\"is\",int_to_bin(n))"
   ]
  },
  {
   "cell_type": "markdown",
   "metadata": {},
   "source": [
    "**6. Write a program to find GCD of two numbers.**"
   ]
  },
  {
   "cell_type": "code",
   "execution_count": 48,
   "metadata": {},
   "outputs": [
    {
     "name": "stdout",
     "output_type": "stream",
     "text": [
      "GCD of 36 and 60 is 12\n"
     ]
    }
   ],
   "source": [
    "def GCD(num1,num2):\n",
    "    if num2 == 0:\n",
    "        return num1\n",
    "    else:\n",
    "        return GCD(num2,num1%num2)\n",
    "\n",
    "n1 = int(input())\n",
    "n2 = int(input())\n",
    "print(\"GCD of\",n1,\"and\",n2,\"is\",GCD(n1,n2))"
   ]
  },
  {
   "cell_type": "markdown",
   "metadata": {},
   "source": [
    "**7. Write a Python program to find the largest number in a list.**"
   ]
  },
  {
   "cell_type": "code",
   "execution_count": 55,
   "metadata": {},
   "outputs": [
    {
     "name": "stdout",
     "output_type": "stream",
     "text": [
      "[-1, -2, -3, -5, -2, -4]\n",
      "Largest number is -1\n"
     ]
    }
   ],
   "source": [
    "def largest_num(num):\n",
    "    return max(num)\n",
    "\n",
    "n = list(map(int,input().split()))\n",
    "print(n)\n",
    "print(\"Largest number is\",largest_num(n))"
   ]
  },
  {
   "cell_type": "markdown",
   "metadata": {},
   "source": [
    "**8. Write a program to find a number is prime or not.**"
   ]
  },
  {
   "cell_type": "code",
   "execution_count": 53,
   "metadata": {},
   "outputs": [
    {
     "name": "stdout",
     "output_type": "stream",
     "text": [
      "Prime number\n"
     ]
    }
   ],
   "source": [
    "def prime(num):\n",
    "    if num < 2:\n",
    "        return \"Not a prime number\"\n",
    "    for i in range(2,num):\n",
    "        if num % i == 0:\n",
    "            return \"Not a prime number\"\n",
    "    return \"Prime number\"\n",
    "\n",
    "n = int(input())\n",
    "print(prime(n))"
   ]
  },
  {
   "cell_type": "markdown",
   "metadata": {},
   "source": [
    "**9. Write a program to convert list to set.**"
   ]
  },
  {
   "cell_type": "code",
   "execution_count": 8,
   "metadata": {},
   "outputs": [
    {
     "name": "stdout",
     "output_type": "stream",
     "text": [
      "Given List:  [1, 2, 3, 4, 5, 6, 7, 8, 9, 0, 1, 2, 3, 45, 23, 33, 44, 44]\n",
      "Set:  {0, 1, 2, 3, 4, 5, 6, 7, 8, 9, 33, 44, 45, 23}\n"
     ]
    }
   ],
   "source": [
    "def list_to_set(n):\n",
    "    return set(n)\n",
    "\n",
    "a = list(map(int,input().split()))\n",
    "print(\"Given List: \",a)\n",
    "print(\"Set: \",list_to_set(a))"
   ]
  },
  {
   "cell_type": "markdown",
   "metadata": {},
   "source": [
    "**10. Print the Fibonacci sequence up to a given number of terms.**"
   ]
  },
  {
   "cell_type": "code",
   "execution_count": null,
   "metadata": {},
   "outputs": [],
   "source": [
    "def fibonacci(num):\n",
    "    \n",
    "    return\n",
    "\n",
    "n = int(input())\n",
    "print(fibonacci(n))"
   ]
  },
  {
   "cell_type": "code",
   "execution_count": null,
   "metadata": {},
   "outputs": [],
   "source": []
  }
 ],
 "metadata": {
  "kernelspec": {
   "display_name": "Python 3",
   "language": "python",
   "name": "python3"
  },
  "language_info": {
   "codemirror_mode": {
    "name": "ipython",
    "version": 3
   },
   "file_extension": ".py",
   "mimetype": "text/x-python",
   "name": "python",
   "nbconvert_exporter": "python",
   "pygments_lexer": "ipython3",
   "version": "3.12.6"
  }
 },
 "nbformat": 4,
 "nbformat_minor": 2
}
